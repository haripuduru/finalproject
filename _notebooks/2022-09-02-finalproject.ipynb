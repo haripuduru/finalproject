{
 "cells": [
  {
   "cell_type": "markdown",
   "id": "e8513ffc-6b1f-434d-adee-58836cfa2d8d",
   "metadata": {},
   "source": [
    "# Studying the Impact of Institutional Investors on a Equity stock performance\n",
    "> \"Stocks which has highest percentage of Institutional Holdings are less voltaile and less risky compared to the stocks with less institutional holdings\"\n",
    "\n",
    "- toc: true\n",
    "- branch: master\n",
    "- badges: true\n",
    "- comments: true\n",
    "- author: Hariprasad Puduru\n",
    "- categories: [fastpages, jupyter]\n"
   ]
  },
  {
   "cell_type": "markdown",
   "id": "c885d366-0ca2-458d-9a79-418cf5604028",
   "metadata": {},
   "source": [
    "## About Me\n",
    "#### Name: Hariprasad Puduru\n",
    "#### Date: 2022-09-02\n",
    "## Project Title : Studying the Impact of Institutional Investors on a Equity stock performance\n",
    "\n",
    "## Appraoch\n",
    "#### Firstly data selection will be based on the Institutional holdings of a common equity stock. I have made two groups of data, one group will have five stocks which have more than 99% instituional Holdings and another group will have five more stocks that will have less than 0.5% instituitonal holdings. S&P500  data will be used for baselining purpose. The idea behind this is to see if Instituional investor has any say on the stock performance. Nasadaq and finviz is used to pick the top-5 stocks from the pool of highest and lowest institutional holdings and also which has at least fiver year of price data. \n",
    "\n",
    "### Stocks with >99 % instituional holdings (here after GROUP A)\n",
    "#### 1. Hilton Grand Vaccations Inc (HGV)\n",
    "#### 2. Hilton Worldwide Holdings Inc (HLV)\n",
    "#### 3. Berry Global Group Inc (BERY)\n",
    "#### 4. Catalent Inc (CTLT)\n",
    "#### 5. RE/MAX Holdings Inc (RMAX)\n",
    "\n",
    "### Stocks with <0.5 % instituional holdings (here after GROUP B)\n",
    "#### 1. Interlink Electronics Inc (LINK)\n",
    "#### 2. Planet Green Holdings Corp(PLAG)\n",
    "#### 3. Color Star Technology Co Ltd (CSCW)\n",
    "#### 4. Agile Therapeutics Inc. (AGRX)\n",
    "#### 5. Newegg Commerce Inc (NEGG)\n",
    "\n",
    "#### I downloaded the 5 years of daily stock price data from Yahoo and put it in the stockdatafinal.xlsx file\n",
    "\n",
    "## What i am intend to find from this analysis and who is the target audience?\n",
    "#### This analysis is intend for retail stock investors. I am trying to find how voltail are these stocks, what will be the daily and annually returns of the stock. How these stocks are fared against S&P 500 Index. The outcome will help for retail investors to choose their stock portfolio according to their needs.\n",
    "\n",
    "## Key Assumptions\n",
    "\n",
    "### 1. Assumed there will be 252 trading days in a calendar year.\n",
    "### 2. Small sample size of data (5 stocks for each group)\n",
    "### 3. Only close price of last five years (2017-09-01 to 2022-08-31) is considered for the analysis\n",
    "\n",
    "## Method and tools\n",
    "#### Python will be used to analyz stock data,  python libraries pandas,numpy and matplotlib will be used. Will be calculating daily and annually returs, mean and standard deviation will be calculated.\n"
   ]
  },
  {
   "cell_type": "code",
   "execution_count": 1,
   "id": "b62e54ee-4e52-4a4e-b049-e0d38d68c3fb",
   "metadata": {},
   "outputs": [],
   "source": [
    "#Importing pandas, numpy,matplotlib,  python libraries\n",
    "import numpy as np\n",
    "import pandas as pd\n",
    "import matplotlib.pyplot as plt\n",
    "plt.rcParams[\"figure.figsize\"] = (20,8)\n"
   ]
  },
  {
   "cell_type": "code",
   "execution_count": 2,
   "id": "899591df-5967-4034-a6cc-adafdfbcca8a",
   "metadata": {},
   "outputs": [
    {
     "ename": "SyntaxError",
     "evalue": "invalid syntax (Temp/ipykernel_26540/3640087577.py, line 1)",
     "output_type": "error",
     "traceback": [
      "\u001b[1;36m  File \u001b[1;32m\"C:\\Users\\SasiH\\AppData\\Local\\Temp/ipykernel_26540/3640087577.py\"\u001b[1;36m, line \u001b[1;32m1\u001b[0m\n\u001b[1;33m    -#Importing Assests excel data sheet and storing in the  assests data Frame.\u001b[0m\n\u001b[1;37m     ^\u001b[0m\n\u001b[1;31mSyntaxError\u001b[0m\u001b[1;31m:\u001b[0m invalid syntax\n"
     ]
    }
   ],
   "source": [
    "-#Importing Assests excel data sheet and storing in the  assests data Frame. \n",
    "#Excel sheet consists of 5 years of close prce data for the 10 stocks and s&p500\n",
    "#Stock data date range 2017-09-01 to 2022-08-31\n",
    "assets = pd.read_excel('stockdatafinal.xlsx')\n",
    "assets.head()"
   ]
  },
  {
   "cell_type": "code",
   "execution_count": null,
   "id": "8340bffc-fff1-472a-9c6c-4acda2b98e3a",
   "metadata": {},
   "outputs": [],
   "source": [
    "#setting the date as Index of the data frame\n",
    "assets=assets.set_index(pd.DatetimeIndex(assets['Date'].values))\n",
    "#Remove or drop the date column\n",
    "assets.drop(['Date'],inplace=True,axis=1)"
   ]
  },
  {
   "cell_type": "code",
   "execution_count": null,
   "id": "10505caa-3816-44b0-80e8-c0c62a90ae9d",
   "metadata": {},
   "outputs": [],
   "source": [
    "#Plotting the close price of all the 10 stocks.\n",
    "plt.plot(assets['HGV'],label='HGV')\n",
    "plt.plot(assets['HLT'],label='HLT')\n",
    "plt.plot(assets['BERY'],label='BERY')\n",
    "plt.plot(assets['CTLT'],label='CTLT')\n",
    "plt.plot(assets['RMAX'],label='RMAX')\n",
    "plt.plot(assets['LINK'],label='LINK')\n",
    "plt.plot(assets['PLAG'],label='PLAG')\n",
    "plt.plot(assets['CSCW'],label='CSCW')\n",
    "plt.plot(assets['PLAG'],label='PLAG')\n",
    "plt.plot(assets['NEGG'],label='NEGG')\n",
    "plt.legend()\n",
    "plt.show()"
   ]
  },
  {
   "cell_type": "markdown",
   "id": "1c156b2e-bf7e-47f1-8b88-e7b50499cd55",
   "metadata": {},
   "source": [
    "#### above line graph shows stocks HLT and CTLT following almost similar trend, while NEGG stock fluctuates too much compared to other stocks."
   ]
  },
  {
   "cell_type": "markdown",
   "id": "28d4f74d-5d27-4f2c-9fc1-323cbab5ac09",
   "metadata": {},
   "source": [
    "# Stock analysis based on simple returns"
   ]
  },
  {
   "cell_type": "code",
   "execution_count": null,
   "id": "af8f1ec2-25df-412e-bafd-ccae17b48b8d",
   "metadata": {},
   "outputs": [],
   "source": [
    "#Get the simple daily returns of the assets using percent change function\n",
    "daily_simple_returns = assets.pct_change().dropna()\n",
    "#printing the daily returns\n",
    "daily_simple_returns"
   ]
  },
  {
   "cell_type": "code",
   "execution_count": null,
   "id": "b646451e-7934-4f7c-89d0-c4abe7c53389",
   "metadata": {},
   "outputs": [],
   "source": [
    "#Calculating annualized returns from the daily simple returns. Multiplying the daily mean average with no.of trading \n",
    "#days will give us annualized simple returns.\n",
    "annualized_returns=daily_simple_returns.mean()*252\n",
    "#sorting the annualized returns and displaying them high to low\n",
    "sorted_annualized_returns = annualized_returns.sort_values(ascending=False)\n",
    "\n",
    "#Plotting the bar graph based on the values. if returns are positive then color 'green'. if returns are negative then color 'red'\n",
    "\n",
    "col = []\n",
    "for val in sorted_annualized_returns:\n",
    "    if val < 0.0:\n",
    "        col.append('red')\n",
    "    elif val > 0.0:\n",
    "        col.append('green')\n",
    "    else:\n",
    "        col.append('blue')\n",
    "\n",
    "\n",
    "#Plotting the annualized returns using bargraph\n",
    "plt.bar(sorted_annualized_returns.index,sorted_annualized_returns,color=col)\n",
    "plt.ylabel('Annualized Returns')\n",
    "plt.xlabel('Assets')\n",
    "plt.title('Annualized Returns of Assets')\n",
    "plt.xticks(rotation=90)\n",
    "plt.grid()\n",
    "plt.show()"
   ]
  },
  {
   "cell_type": "markdown",
   "id": "9ae4b8f4-35d0-4282-a4af-66ade8a662fb",
   "metadata": {},
   "source": [
    "#### 7 out of 10 stocks outperformed s&p 500 index over the last 5 years when calculated annualized returns, while two stocks gave negative returns. Those two stocks belongs to the group of less institutional holdings.\n"
   ]
  },
  {
   "cell_type": "markdown",
   "id": "a7daa1b4-2787-4149-8365-64f186c1895a",
   "metadata": {},
   "source": [
    "#### Next  we will be plotting series of histogram plots for each stock based on daily simple returns . we plot out the histogram using the .hist method and we specify the number of bins we want. The thicker our histogram is the more volatile the stock is.The width of the histogram shape is related to the standard deviation of the distribution. The higher it is the more variants we have, the variants of a certain distribution are directly related to the standard deviation. It’s actually the square value of the standard deviation, the higher the standard deviation is, the higher the variance is. The more volatility we have in terms of stock analysis."
   ]
  },
  {
   "cell_type": "code",
   "execution_count": null,
   "id": "7d9dc4ab-1ab8-4f05-ae98-5b4c166af868",
   "metadata": {},
   "outputs": [],
   "source": [
    "#Ploting Daily simple returns using histogram chart for the group A\n",
    "daily_simple_returns['HGV'].hist(bins=50, label='HGV')\n",
    "daily_simple_returns['HLT'].hist(bins=50, label='HLT')\n",
    "daily_simple_returns['BERY'].hist(bins=50, label='BERY')\n",
    "daily_simple_returns['CTLT'].hist(bins=50, label='CTLT')\n",
    "daily_simple_returns['RMAX'].hist(bins=50, label='RMAX')\n",
    "daily_simple_returns['SP500'].hist(bins=50, label='SP500')\n",
    "plt.legend()\n",
    "plt.show()"
   ]
  },
  {
   "cell_type": "code",
   "execution_count": null,
   "id": "7a44a2ba-cd5a-43f8-8a87-1dce0606b5fb",
   "metadata": {},
   "outputs": [],
   "source": [
    "#Ploting Daily simple returns using histogram chart for the group B\n",
    "daily_simple_returns['LINK'].hist(bins=50, label='LINK')\n",
    "daily_simple_returns['PLAG'].hist(bins=50, label='PLAG')\n",
    "daily_simple_returns['CSCW'].hist(bins=50, label='CSCW')\n",
    "daily_simple_returns['AGRX'].hist(bins=50, label='AGRX')\n",
    "daily_simple_returns['NEGG'].hist(bins=50, label='NEGG')\n",
    "daily_simple_returns['SP500'].hist(bins=50, label='SP500')\n",
    "plt.legend()\n",
    "plt.show()"
   ]
  },
  {
   "cell_type": "markdown",
   "id": "1075eedf-4425-4735-973b-1a20b557ef0f",
   "metadata": {},
   "source": [
    "#### The above two histogram charts shows us that, Group A stocks are more of normally distributed while Group B stocks skewed to left more. first group is not wide spread that means it's less voltail compared to second group."
   ]
  },
  {
   "cell_type": "code",
   "execution_count": null,
   "id": "4a03f526-df2a-44df-b7b6-87f0865a55c1",
   "metadata": {},
   "outputs": [],
   "source": [
    "#Calculating mean and standard deviation of daily simple returns using describe function\n",
    "daily_simple_returns.describe()\n",
    "#we are interested only in mean and standar deviation so we will be ignoring other parameters from decribe() function \n",
    "#and copying the output into a different \n",
    "dailyreturns_mean_std= daily_simple_returns.describe().T.loc[:,[\"mean\",\"std\"]]\n",
    "#print(dailyreturns_mean_std)\n",
    "\n",
    "#converting mean and std into yearly\n",
    "dailyreturns_mean_std[\"mean\"] = dailyreturns_mean_std[\"mean\"]*252\n",
    "dailyreturns_mean_std[\"std\"] = dailyreturns_mean_std[\"std\"]*np.sqrt(252)\n",
    "print(dailyreturns_mean_std)\n",
    "#Plotting the standard deviation and mean using scatter plot\n",
    "dailyreturns_mean_std.plot.scatter(fontsize=15, x=\"std\",y=\"mean\")\n",
    "for idx in dailyreturns_mean_std.index:\n",
    "    plt.annotate(idx,xy=(dailyreturns_mean_std.loc[idx,\"std\"]+0.005,dailyreturns_mean_std.loc[idx,\"mean\"]+0.005))\n",
    "  "
   ]
  },
  {
   "cell_type": "code",
   "execution_count": null,
   "id": "90fd46e8-2fed-4047-ac86-b7f15f1dcd7b",
   "metadata": {},
   "outputs": [],
   "source": [
    "#daily_simple_returns.var()"
   ]
  },
  {
   "cell_type": "markdown",
   "id": "6283f53e-3b3f-4fdb-bd77-9a4e46a5b8c6",
   "metadata": {},
   "source": [
    "#### Above scatter plot clearly indicates Group A stocks and S&P 500 are close to each other and their mean and standard deviations are less compared to Group B stocks. This indicates instituional investors invest in low risk and moderate returns stock\n"
   ]
  },
  {
   "cell_type": "markdown",
   "id": "d3a63e16-cf78-4b41-aac5-a82e1d1e9e80",
   "metadata": {},
   "source": [
    "# Stock analysis based on Log returns"
   ]
  },
  {
   "cell_type": "code",
   "execution_count": null,
   "id": "c53f2cc6-cb0f-4fa9-b33e-aa8d177390c3",
   "metadata": {},
   "outputs": [],
   "source": [
    "#Calculating daily log return of the stock, NAN will be dropped after the calcuation using dropna() method.\n",
    "daily_log_returns=assets.pct_change().apply(lambda x:np.log(1+x))\n",
    "daily_log_returns = log_daily_returns.dropna()\n",
    "#Printing the daily log returns\n",
    "print(daily_log_returns)\n",
    "#Calculating daily average returns\n",
    "daily_log_returns.mean()"
   ]
  },
  {
   "cell_type": "code",
   "execution_count": null,
   "id": "cd79f422-90af-42b9-8a00-0eb28fdde001",
   "metadata": {},
   "outputs": [],
   "source": [
    "#Calculating annualized returns from the daily average log returns\n",
    "annualized_log_returns=daily_log_returns.mean()*252\n",
    "#sorting the annualized returns and displaying them high to low\n",
    "sorted_annualized_log_returns = annualized_log_returns.sort_values(ascending=False)\n",
    "\n",
    "#Plotting the bar graph based on the values. if returns are positive then color 'green'. if returns are negative then color 'red'\n",
    "\n",
    "col = []\n",
    "for val in sorted_annualized_log_returns:\n",
    "    if val < 0.0:\n",
    "        col.append('red')\n",
    "    elif val > 0.0:\n",
    "        col.append('green')\n",
    "    else:\n",
    "        col.append('blue')\n",
    "\n",
    "\n",
    "#Plotting the annualized returns using bargraph\n",
    "plt.bar(sorted_annualized_log_returns.index,sorted_annualized_log_returns,color= col)\n",
    "plt.ylabel('Annualized Log Returns')\n",
    "plt.xlabel('Assets')\n",
    "plt.title('Annualized Log Returns of Assets')\n",
    "plt.xticks(rotation=90)\n",
    "plt.grid()\n",
    "plt.show()"
   ]
  },
  {
   "cell_type": "markdown",
   "id": "66cecd60-96c9-4444-a5d3-9e55d394182e",
   "metadata": {},
   "source": [
    "### Log returns gives a compeletly different picture than simple stock returns. Only two stocks are giving better returns than s&P 500, while the Group B stocks are underperforming and giving negative returns."
   ]
  },
  {
   "cell_type": "markdown",
   "id": "9c6cd21d-7452-48f3-8ff6-b1767b7d4ab4",
   "metadata": {},
   "source": [
    "#### Next  we will be plotting series of histogram plots for each stock based on daily log returns ."
   ]
  },
  {
   "cell_type": "code",
   "execution_count": null,
   "id": "fae28fdd-a424-48d9-b3b6-892e268ee053",
   "metadata": {},
   "outputs": [],
   "source": [
    "#Ploting Daily log returns using histogram chart for the group A\n",
    "daily_log_returns['HGV'].hist(bins=50, label='HGV')\n",
    "daily_log_returns['HLT'].hist(bins=50, label='HLT')\n",
    "daily_log_returns['BERY'].hist(bins=50, label='BERY')\n",
    "daily_log_returns['CTLT'].hist(bins=50, label='CTLT')\n",
    "daily_log_returns['RMAX'].hist(bins=50, label='RMAX')\n",
    "daily_log_returns['SP500'].hist(bins=50, label='SP500')\n",
    "plt.legend()\n",
    "plt.show()"
   ]
  },
  {
   "cell_type": "code",
   "execution_count": null,
   "id": "e4d5733c-8d9a-4fb3-a470-0d89eaeb1f44",
   "metadata": {},
   "outputs": [],
   "source": [
    "#Ploting Daily simple returns using histogram chart for the group B\n",
    "daily_log_returns['LINK'].hist(bins=50, label='LINK')\n",
    "daily_log_returns['PLAG'].hist(bins=50, label='PLAG')\n",
    "daily_log_returns['CSCW'].hist(bins=50, label='CSCW')\n",
    "daily_log_returns['AGRX'].hist(bins=50, label='AGRX')\n",
    "daily_log_returns['NEGG'].hist(bins=50, label='NEGG')\n",
    "daily_log_returns['SP500'].hist(bins=50, label='SP500')\n",
    "plt.legend()\n",
    "plt.show()"
   ]
  },
  {
   "cell_type": "markdown",
   "id": "92ee2a31-8330-42bb-8c5a-d7c7b568a510",
   "metadata": {},
   "source": [
    "#### The above two histogram charts shows us that, Group A stocks are more of normally distributed while Group B stocks skewed to left more. first group is not wide spread that means it's less voltail compared to second group. This is similiar to simple return."
   ]
  },
  {
   "cell_type": "code",
   "execution_count": null,
   "id": "d3077f93-50fa-4fac-97c7-f2ed99305fe6",
   "metadata": {},
   "outputs": [],
   "source": [
    "#Calculating mean and standard deviation of daily log returns using describe function\n",
    "daily_log_returns.describe()\n",
    "#we are interested only in mean and standar deviation so we will be ignoring other parameters from decribe() function \n",
    "#and copying the output into a different \n",
    "daily_log_returns_mean_std= daily_log_returns.describe().T.loc[:,[\"mean\",\"std\"]]\n",
    "#print(daily_log_returns_mean_std)\n",
    "\n",
    "#converting mean and std into yearly\n",
    "\n",
    "daily_log_returns_mean_std[\"mean\"] = daily_log_returns_mean_std[\"mean\"]*252\n",
    "daily_log_returns_mean_std[\"std\"] = daily_log_returns_mean_std[\"std\"]*np.sqrt(252)\n",
    "print(dailyreturns_mean_std)\n",
    "#Plotting the standard deviation and mean using scatter plot\n",
    "daily_log_returns_mean_std.plot.scatter(fontsize=18, x=\"std\",y=\"mean\")\n",
    "for idx in daily_log_returns_mean_std.index:\n",
    "    plt.annotate(idx,xy=(daily_log_returns_mean_std.loc[idx,\"std\"]+0.005,daily_log_returns_mean_std.loc[idx,\"mean\"]+0.005))"
   ]
  },
  {
   "cell_type": "markdown",
   "id": "623d5a03-56c9-414b-acaa-ad7b63a93588",
   "metadata": {},
   "source": [
    "#### The above scatter plot indicates Group A stocks are performing very colse to the S&p 500 index levels, where as Group B stocks are underperfroming and also they are very voltail. \n"
   ]
  },
  {
   "cell_type": "markdown",
   "id": "9f4931dd-ee95-4554-97fb-8092099ad570",
   "metadata": {},
   "source": [
    "# Final outcome:\n",
    "#### The Analysis shows Simple returns and Log returns gives different results and outcomes. In both the cases, Group A stocks are low risk and high return stocks compared to Group B stocks. That means, Higher Institutional holdings are considered as positive to the growth of the stock price. Also High Insitutional holding avoids the stock voltaility and inturn the risk. So retail investors should follow the Insitutional investors trade book and invest in low risk stocks rather than losing money in the high risky stocks."
   ]
  },
  {
   "cell_type": "code",
   "execution_count": null,
   "id": "42d89df2-0d28-40bb-acb8-1d95884e594b",
   "metadata": {},
   "outputs": [],
   "source": []
  }
 ],
 "metadata": {
  "kernelspec": {
   "display_name": "Python 3 (ipykernel)",
   "language": "python",
   "name": "python3"
  },
  "language_info": {
   "codemirror_mode": {
    "name": "ipython",
    "version": 3
   },
   "file_extension": ".py",
   "mimetype": "text/x-python",
   "name": "python",
   "nbconvert_exporter": "python",
   "pygments_lexer": "ipython3",
   "version": "3.9.7"
  }
 },
 "nbformat": 4,
 "nbformat_minor": 5
}
